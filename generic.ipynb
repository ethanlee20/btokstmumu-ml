{
 "cells": [
  {
   "cell_type": "code",
   "execution_count": 1,
   "id": "d9189edb",
   "metadata": {},
   "outputs": [],
   "source": [
    "from helpers import data"
   ]
  },
  {
   "cell_type": "code",
   "execution_count": 2,
   "id": "25ae919f",
   "metadata": {},
   "outputs": [],
   "source": [
    "def save_splits(q_sq_veto, charge_or_mix, mbc_sb_or_sr, sig_or_bkg, frac_train, frac_val):\n",
    "    \n",
    "    assert frac_train + frac_val <= 1\n",
    "\n",
    "    df = (\n",
    "        data.load_generic_charge(q_sq_veto) if charge_or_mix == \"charge\" \n",
    "        else data.load_generic_mix(q_sq_veto) if charge_or_mix == \"mix\"\n",
    "        else None\n",
    "    )\n",
    "\n",
    "    df = (\n",
    "        data.cut_to_mbc_sideband(df) if mbc_sb_or_sr == \"mbc_sb\"\n",
    "        else data.cut_to_signal_region(df) if mbc_sb_or_sr == \"sr\"\n",
    "        else None\n",
    "    )\n",
    "\n",
    "    df = (\n",
    "        data.cut_to_signal(df) if sig_or_bkg == \"sig\"\n",
    "        else data.cut_to_bkg(df) if sig_or_bkg == \"bkg\"\n",
    "        else None\n",
    "    )\n",
    "\n",
    "    num_val = round(frac_val * len(df))\n",
    "    num_train = round(frac_train * len(df))\n",
    "\n",
    "    splits = {\n",
    "        \"train\" : df.iloc[:num_train],\n",
    "        \"val\" : df.iloc[num_train:num_val+num_train],\n",
    "        \"test\" : df.iloc[num_val+num_train:]   \n",
    "    }\n",
    "\n",
    "    for split in [\"train\", \"val\", \"test\"]:\n",
    "\n",
    "        data.save_generic_split(splits[split], charge_or_mix, mbc_sb_or_sr, sig_or_bkg, split)"
   ]
  },
  {
   "cell_type": "code",
   "execution_count": 3,
   "id": "357bb5df",
   "metadata": {},
   "outputs": [],
   "source": [
    "q_sq_veto = \"resonances\"\n",
    "\n",
    "# signal region\n",
    "save_splits(q_sq_veto, \"charge\", \"sr\", \"bkg\", frac_train=0, frac_val=0.5)\n",
    "save_splits(q_sq_veto, \"mix\", \"sr\", \"bkg\", frac_train=0, frac_val=0.5)\n",
    "save_splits(q_sq_veto, \"mix\", \"sr\", \"sig\", frac_train=0, frac_val=0.5)\n",
    "\n",
    "# sideband\n",
    "save_splits(q_sq_veto, \"charge\", \"mbc_sb\", \"bkg\", frac_train=0.8, frac_val=0.2)\n",
    "save_splits(q_sq_veto, \"mix\", \"mbc_sb\", \"bkg\", frac_train=0.8, frac_val=0.2)"
   ]
  },
  {
   "cell_type": "code",
   "execution_count": null,
   "id": "db38a86d",
   "metadata": {},
   "outputs": [],
   "source": []
  }
 ],
 "metadata": {
  "kernelspec": {
   "display_name": "ml3",
   "language": "python",
   "name": "python3"
  },
  "language_info": {
   "codemirror_mode": {
    "name": "ipython",
    "version": 3
   },
   "file_extension": ".py",
   "mimetype": "text/x-python",
   "name": "python",
   "nbconvert_exporter": "python",
   "pygments_lexer": "ipython3",
   "version": "3.13.5"
  }
 },
 "nbformat": 4,
 "nbformat_minor": 5
}
