{
 "cells": [
  {
   "cell_type": "code",
   "execution_count": 4,
   "id": "4ed19bfa",
   "metadata": {},
   "outputs": [
    {
     "name": "stdout",
     "output_type": "stream",
     "text": [
      "charge_sb_bkg_train.parquet 89132\n",
      "charge_sb_bkg_val.parquet 35653\n",
      "charge_sb_bkg_test.parquet 53480\n",
      "charge_sr_bkg_val.parquet 6935\n",
      "charge_sr_bkg_test.parquet 6936\n",
      "mix_sb_bkg_train.parquet 69581\n",
      "mix_sb_bkg_val.parquet 27832\n",
      "mix_sb_bkg_test.parquet 41749\n",
      "mix_sr_bkg_val.parquet 108072\n",
      "mix_sr_bkg_test.parquet 108072\n",
      "mix_sr_signal_val.parquet 1047\n",
      "mix_sr_signal_test.parquet 1048\n"
     ]
    }
   ],
   "source": [
    "from pathlib import Path\n",
    "from itertools import product\n",
    "\n",
    "import pandas\n",
    "\n",
    "\n",
    "path_to_dir = \"../../common/state/data/processed/aggregated_generic\"\n",
    "path_to_dir = Path(path_to_dir)\n",
    "\n",
    "sources = [\"charge\", \"mix\"]\n",
    "regions = [\"sb\", \"sr\"]\n",
    "types = [\"bkg\", \"signal\"]\n",
    "splits = [\"train\", \"val\", \"test\"]\n",
    "\n",
    "for prod in product(sources, regions, types, splits):\n",
    "\n",
    "    filename = f\"{'_'.join(prod)}.parquet\"\n",
    "    try:\n",
    "        dataframe = pandas.read_parquet(path_to_dir.joinpath(filename))\n",
    "        print(filename, len(dataframe))\n",
    "    except:\n",
    "        pass"
   ]
  },
  {
   "cell_type": "code",
   "execution_count": null,
   "id": "86108c4b",
   "metadata": {},
   "outputs": [],
   "source": []
  }
 ],
 "metadata": {
  "kernelspec": {
   "display_name": "ml3",
   "language": "python",
   "name": "python3"
  },
  "language_info": {
   "codemirror_mode": {
    "name": "ipython",
    "version": 3
   },
   "file_extension": ".py",
   "mimetype": "text/x-python",
   "name": "python",
   "nbconvert_exporter": "python",
   "pygments_lexer": "ipython3",
   "version": "3.13.5"
  }
 },
 "nbformat": 4,
 "nbformat_minor": 5
}
