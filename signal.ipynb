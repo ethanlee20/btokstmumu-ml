{
 "cells": [
  {
   "cell_type": "markdown",
   "id": "27bc5588",
   "metadata": {},
   "source": [
    "Setup"
   ]
  },
  {
   "cell_type": "code",
   "execution_count": null,
   "id": "15152c52",
   "metadata": {},
   "outputs": [],
   "source": [
    "from itertools import product\n",
    "from pathlib import Path\n",
    "\n",
    "import helpers"
   ]
  },
  {
   "cell_type": "code",
   "execution_count": null,
   "id": "e275e941",
   "metadata": {},
   "outputs": [],
   "source": [
    "levels = [\"gen\", \"det\"]\n",
    "\n",
    "splits = [\"train\", \"val\"]\n",
    "\n",
    "feature_names = [\"q_squared\", \"costheta_mu\", \"costheta_K\", \"chi\"]\n",
    "\n",
    "raw_signal_dir = Path(\"data\").joinpath(\"raw_signal\")"
   ]
  },
  {
   "cell_type": "markdown",
   "id": "1fcf41e4",
   "metadata": {},
   "source": [
    "Aggregate signal"
   ]
  },
  {
   "cell_type": "code",
   "execution_count": null,
   "id": "6e3de7f8",
   "metadata": {},
   "outputs": [],
   "source": [
    "for level, split in product(levels, splits):\n",
    "\n",
    "    helpers.data.make_and_save_agg_signal_file(level, split, feature_names, raw_signal_dir)"
   ]
  }
 ],
 "metadata": {
  "kernelspec": {
   "display_name": "Python 3",
   "language": "python",
   "name": "python3"
  },
  "language_info": {
   "name": "python",
   "version": "3.13.3"
  }
 },
 "nbformat": 4,
 "nbformat_minor": 5
}
