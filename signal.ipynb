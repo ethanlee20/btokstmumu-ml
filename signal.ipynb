{
 "cells": [
  {
   "cell_type": "markdown",
   "id": "27bc5588",
   "metadata": {},
   "source": [
    "Setup"
   ]
  },
  {
   "cell_type": "code",
   "execution_count": 1,
   "id": "15152c52",
   "metadata": {},
   "outputs": [],
   "source": [
    "from itertools import product\n",
    "from pathlib import Path\n",
    "\n",
    "import matplotlib.pyplot as plt\n",
    "\n",
    "from helpers import data"
   ]
  },
  {
   "cell_type": "code",
   "execution_count": 2,
   "id": "e275e941",
   "metadata": {},
   "outputs": [],
   "source": [
    "levels = [\"gen\", \"det\"]\n",
    "\n",
    "splits = [\"train\", \"val\"]\n",
    "\n",
    "raw_signal_dir = Path(\"data/raw/signal\")"
   ]
  },
  {
   "cell_type": "markdown",
   "id": "1fcf41e4",
   "metadata": {},
   "source": [
    "Aggregate signal"
   ]
  },
  {
   "cell_type": "code",
   "execution_count": 3,
   "id": "6e3de7f8",
   "metadata": {},
   "outputs": [
    {
     "ename": "ValueError",
     "evalue": "zero-size array to reduction operation minimum which has no identity",
     "output_type": "error",
     "traceback": [
      "\u001b[31m---------------------------------------------------------------------------\u001b[39m",
      "\u001b[31mValueError\u001b[39m                                Traceback (most recent call last)",
      "\u001b[36mCell\u001b[39m\u001b[36m \u001b[39m\u001b[32mIn[3]\u001b[39m\u001b[32m, line 5\u001b[39m\n\u001b[32m      1\u001b[39m q_sq_veto = \u001b[33m\"\u001b[39m\u001b[33mresonances\u001b[39m\u001b[33m\"\u001b[39m\n\u001b[32m      3\u001b[39m \u001b[38;5;28;01mfor\u001b[39;00m level, split \u001b[38;5;129;01min\u001b[39;00m product(levels, splits):\n\u001b[32m----> \u001b[39m\u001b[32m5\u001b[39m     \u001b[43mdata\u001b[49m\u001b[43m.\u001b[49m\u001b[43mmake_and_save_agg_signal_file\u001b[49m\u001b[43m(\u001b[49m\u001b[43mlevel\u001b[49m\u001b[43m,\u001b[49m\u001b[43m \u001b[49m\u001b[43msplit\u001b[49m\u001b[43m,\u001b[49m\u001b[43m \u001b[49m\u001b[43mq_sq_veto\u001b[49m\u001b[43m,\u001b[49m\u001b[43m \u001b[49m\u001b[43mraw_signal_dir\u001b[49m\u001b[43m)\u001b[49m\n\u001b[32m      7\u001b[39m     \u001b[38;5;28mprint\u001b[39m(\u001b[33mf\u001b[39m\u001b[33m\"\u001b[39m\u001b[33mfinished: \u001b[39m\u001b[38;5;132;01m{\u001b[39;00mlevel\u001b[38;5;132;01m}\u001b[39;00m\u001b[33m, \u001b[39m\u001b[38;5;132;01m{\u001b[39;00msplit\u001b[38;5;132;01m}\u001b[39;00m\u001b[33m\"\u001b[39m)\n",
      "\u001b[36mFile \u001b[39m\u001b[32mc:\\Users\\tetha\\Desktop\\btokstmumu-ml\\helpers\\data.py:346\u001b[39m, in \u001b[36mmake_and_save_agg_signal_file\u001b[39m\u001b[34m(level, split, q_sq_veto, input_dir)\u001b[39m\n\u001b[32m    338\u001b[39m trials = {\u001b[33m\"\u001b[39m\u001b[33mtrain\u001b[39m\u001b[33m\"\u001b[39m : \u001b[38;5;28mrange\u001b[39m(\u001b[32m1\u001b[39m,\u001b[32m21\u001b[39m), \u001b[33m\"\u001b[39m\u001b[33mval\u001b[39m\u001b[33m\"\u001b[39m : \u001b[38;5;28mrange\u001b[39m(\u001b[32m21\u001b[39m, \u001b[32m41\u001b[39m)}\n\u001b[32m    340\u001b[39m dataframe = aggregate_signal_files(\n\u001b[32m    341\u001b[39m     level,\n\u001b[32m    342\u001b[39m     trials[split],\n\u001b[32m    343\u001b[39m     input_dir,\n\u001b[32m    344\u001b[39m )\n\u001b[32m--> \u001b[39m\u001b[32m346\u001b[39m dataframe, bin_map = \u001b[43mprocess_signal\u001b[49m\u001b[43m(\u001b[49m\u001b[43mdataframe\u001b[49m\u001b[43m,\u001b[49m\u001b[43m \u001b[49m\u001b[43mq_sq_veto\u001b[49m\u001b[43m)\u001b[49m\n\u001b[32m    348\u001b[39m save_agg_signal_file(dataframe, level, split, q_sq_veto)\n\u001b[32m    349\u001b[39m numpy.save(Path(\u001b[33m\"\u001b[39m\u001b[33mdata\u001b[39m\u001b[33m\"\u001b[39m).joinpath(\u001b[33m\"\u001b[39m\u001b[33mbin_map.npy\u001b[39m\u001b[33m\"\u001b[39m), bin_map)\n",
      "\u001b[36mFile \u001b[39m\u001b[32mc:\\Users\\tetha\\Desktop\\btokstmumu-ml\\helpers\\data.py:314\u001b[39m, in \u001b[36mprocess_signal\u001b[39m\u001b[34m(dataframe, q_sq_veto)\u001b[39m\n\u001b[32m    311\u001b[39m dataframe = dataframe.dropna()\n\u001b[32m    313\u001b[39m label_to_reduce = \u001b[33m\"\u001b[39m\u001b[33mdc9\u001b[39m\u001b[33m\"\u001b[39m\n\u001b[32m--> \u001b[39m\u001b[32m314\u001b[39m dataframe = \u001b[43mreduce_num_per_label_to_lowest\u001b[49m\u001b[43m(\u001b[49m\u001b[43mdataframe\u001b[49m\u001b[43m,\u001b[49m\u001b[43m \u001b[49m\u001b[43mlabel_to_reduce\u001b[49m\u001b[43m)\u001b[49m\n\u001b[32m    316\u001b[39m binned_dc9, bin_map = to_bins(dataframe[\u001b[33m\"\u001b[39m\u001b[33mdc9\u001b[39m\u001b[33m\"\u001b[39m])\n\u001b[32m    317\u001b[39m dataframe[\u001b[33m\"\u001b[39m\u001b[33mdc9_bin\u001b[39m\u001b[33m\"\u001b[39m] = binned_dc9\n",
      "\u001b[36mFile \u001b[39m\u001b[32mc:\\Users\\tetha\\Desktop\\btokstmumu-ml\\helpers\\data.py:298\u001b[39m, in \u001b[36mreduce_num_per_label_to_lowest\u001b[39m\u001b[34m(dataframe, label_name)\u001b[39m\n\u001b[32m    296\u001b[39m \u001b[38;5;28;01mdef\u001b[39;00m\u001b[38;5;250m \u001b[39m\u001b[34mreduce_num_per_label_to_lowest\u001b[39m(dataframe, label_name):\n\u001b[32m--> \u001b[39m\u001b[32m298\u001b[39m     num_lowest = \u001b[43mdataframe\u001b[49m\u001b[43m[\u001b[49m\u001b[43mlabel_name\u001b[49m\u001b[43m]\u001b[49m\u001b[43m.\u001b[49m\u001b[43mvalue_counts\u001b[49m\u001b[43m(\u001b[49m\u001b[43m)\u001b[49m\u001b[43m.\u001b[49m\u001b[43mvalues\u001b[49m\u001b[43m.\u001b[49m\u001b[43mmin\u001b[49m\u001b[43m(\u001b[49m\u001b[43m)\u001b[49m\n\u001b[32m    299\u001b[39m     get_subset = \u001b[38;5;28;01mlambda\u001b[39;00m x : x.iloc[:num_lowest]\n\u001b[32m    300\u001b[39m     dataframe = (\n\u001b[32m    301\u001b[39m         dataframe.groupby(label_name, group_keys=\u001b[38;5;28;01mFalse\u001b[39;00m)[dataframe.columns]\n\u001b[32m    302\u001b[39m         .apply(get_subset)\n\u001b[32m    303\u001b[39m     )\n",
      "\u001b[36mFile \u001b[39m\u001b[32mc:\\Users\\tetha\\miniforge3\\envs\\ml3\\Lib\\site-packages\\numpy\\_core\\_methods.py:49\u001b[39m, in \u001b[36m_amin\u001b[39m\u001b[34m(a, axis, out, keepdims, initial, where)\u001b[39m\n\u001b[32m     47\u001b[39m \u001b[38;5;28;01mdef\u001b[39;00m\u001b[38;5;250m \u001b[39m\u001b[34m_amin\u001b[39m(a, axis=\u001b[38;5;28;01mNone\u001b[39;00m, out=\u001b[38;5;28;01mNone\u001b[39;00m, keepdims=\u001b[38;5;28;01mFalse\u001b[39;00m,\n\u001b[32m     48\u001b[39m           initial=_NoValue, where=\u001b[38;5;28;01mTrue\u001b[39;00m):\n\u001b[32m---> \u001b[39m\u001b[32m49\u001b[39m     \u001b[38;5;28;01mreturn\u001b[39;00m \u001b[43mumr_minimum\u001b[49m\u001b[43m(\u001b[49m\u001b[43ma\u001b[49m\u001b[43m,\u001b[49m\u001b[43m \u001b[49m\u001b[43maxis\u001b[49m\u001b[43m,\u001b[49m\u001b[43m \u001b[49m\u001b[38;5;28;43;01mNone\u001b[39;49;00m\u001b[43m,\u001b[49m\u001b[43m \u001b[49m\u001b[43mout\u001b[49m\u001b[43m,\u001b[49m\u001b[43m \u001b[49m\u001b[43mkeepdims\u001b[49m\u001b[43m,\u001b[49m\u001b[43m \u001b[49m\u001b[43minitial\u001b[49m\u001b[43m,\u001b[49m\u001b[43m \u001b[49m\u001b[43mwhere\u001b[49m\u001b[43m)\u001b[49m\n",
      "\u001b[31mValueError\u001b[39m: zero-size array to reduction operation minimum which has no identity"
     ]
    }
   ],
   "source": [
    "q_sq_veto = \"resonances\"\n",
    "\n",
    "for level, split in product(levels, splits):\n",
    "\n",
    "    data.make_and_save_agg_signal_file(level, split, q_sq_veto, raw_signal_dir)\n",
    "\n",
    "    print(f\"finished: {level}, {split}\")"
   ]
  },
  {
   "cell_type": "markdown",
   "id": "c474b7b3",
   "metadata": {},
   "source": [
    "Check"
   ]
  },
  {
   "cell_type": "code",
   "execution_count": null,
   "id": "efc1d2ff",
   "metadata": {},
   "outputs": [],
   "source": [
    "for level in levels:\n",
    "    \n",
    "    dataframe = data.open_agg_signal_file(level, \"train\", \"resonances\")\n",
    "\n",
    "    for var in [\"q_squared\", \"costheta_mu\", \"costheta_K\", \"chi\"]:\n",
    "        plt.hist(dataframe[var], bins=500)\n",
    "        plt.xlabel(f\"{level} : {var}\")\n",
    "        plt.show()"
   ]
  },
  {
   "cell_type": "code",
   "execution_count": null,
   "id": "817ba73d",
   "metadata": {},
   "outputs": [],
   "source": []
  }
 ],
 "metadata": {
  "kernelspec": {
   "display_name": "ml3",
   "language": "python",
   "name": "python3"
  },
  "language_info": {
   "codemirror_mode": {
    "name": "ipython",
    "version": 3
   },
   "file_extension": ".py",
   "mimetype": "text/x-python",
   "name": "python",
   "nbconvert_exporter": "python",
   "pygments_lexer": "ipython3",
   "version": "3.13.5"
  }
 },
 "nbformat": 4,
 "nbformat_minor": 5
}
