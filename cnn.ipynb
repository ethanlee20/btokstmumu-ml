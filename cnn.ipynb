{
 "cells": [
  {
   "cell_type": "markdown",
   "id": "d1d8e24e",
   "metadata": {},
   "source": [
    "Setup"
   ]
  },
  {
   "cell_type": "code",
   "execution_count": 1,
   "id": "157470bd",
   "metadata": {},
   "outputs": [],
   "source": [
    "from itertools import product \n",
    "from pathlib import Path\n",
    "\n",
    "import matplotlib.pyplot as plt\n",
    "import torch\n",
    "\n",
    "from helpers import models, data, plot"
   ]
  },
  {
   "cell_type": "code",
   "execution_count": 2,
   "id": "1ba6cc67",
   "metadata": {},
   "outputs": [
    {
     "name": "stdout",
     "output_type": "stream",
     "text": [
      "Device:  cuda\n"
     ]
    }
   ],
   "source": [
    "splits = [\"train\", \"val\"]\n",
    "levels = [\n",
    "    \"gen\", \n",
    "    \"det\", \n",
    "    \"det_bkg\"\n",
    "]\n",
    "q_sq_veto = \"resonances\"\n",
    "\n",
    "dset_name = \"images\"\n",
    "\n",
    "def make_model_name(level, num_signal): return f\"cnn_{level}_{num_signal}\"\n",
    "\n",
    "dc9_new_phys = -0.82\n",
    "\n",
    "bins_per_dim = 50\n",
    "num_signal_per_set = [8_000, 16_000, 32_000]\n",
    "num_sets_per_label = {8_000 : 400, 16_000: 200, 32_000 : 100} \n",
    "num_sets_sensitivity = 2_000\n",
    "bkg_signal_ratio = 0.96\n",
    "charge_bkg_fraction = 0.33\n",
    "\n",
    "device = models.select_device()\n",
    "loss_fn = torch.nn.MSELoss()\n",
    "lr = 1e-3\n",
    "lr_reduce_factor = 0.2\n",
    "lr_reduce_patience = 5\n",
    "batch_sizes = {8_000 : 128, 16_000 : 64, 32_000 : 32}\n",
    "epochs = 50\n",
    "epochs_checkpoint = 1"
   ]
  },
  {
   "cell_type": "markdown",
   "id": "0f762b51",
   "metadata": {},
   "source": [
    "Save standard scaling constants"
   ]
  },
  {
   "cell_type": "code",
   "execution_count": null,
   "id": "389e6781",
   "metadata": {},
   "outputs": [],
   "source": [
    "split = \"train\"\n",
    "\n",
    "for level, num_signal in product(levels, num_signal_per_set):\n",
    "\n",
    "        images_features, images_labels = data.make_images(\n",
    "            level,\n",
    "            split,\n",
    "            q_sq_veto,\n",
    "            num_signal,\n",
    "            num_sets_per_label[num_signal],\n",
    "            bins_per_dim,\n",
    "            bkg_signal_ratio=bkg_signal_ratio,\n",
    "            charge_bkg_fraction=charge_bkg_fraction\n",
    "        )\n",
    "\n",
    "        std_scale_mean = torch.mean(images_features)\n",
    "        std_scale_std = torch.std(images_features)\n",
    "\n",
    "        data.save_dset_file(std_scale_mean, dset_name, level, split, \"mean\", num_signal_per_set=num_signal)\n",
    "        data.save_dset_file(std_scale_std, dset_name, level, split, \"std\", num_signal_per_set=num_signal)\n",
    "\n",
    "        print(f\"finished: {level}, {num_signal}\")"
   ]
  },
  {
   "cell_type": "markdown",
   "id": "0e4c0fe9",
   "metadata": {},
   "source": [
    "Dataset creation"
   ]
  },
  {
   "cell_type": "code",
   "execution_count": null,
   "id": "71a613e6",
   "metadata": {},
   "outputs": [],
   "source": [
    "for level, num_signal, split in product(levels, num_signal_per_set, splits): \n",
    "\n",
    "    images_features, images_labels = data.make_images(\n",
    "        level,\n",
    "        split,\n",
    "        q_sq_veto,\n",
    "        num_signal,\n",
    "        num_sets_per_label[num_signal],\n",
    "        bins_per_dim,\n",
    "        bkg_signal_ratio=bkg_signal_ratio,\n",
    "        charge_bkg_fraction=charge_bkg_fraction\n",
    "    )\n",
    "\n",
    "    images_features = data.apply_std_scale(images_features, dset_name, level, num_signal_per_set=num_signal)\n",
    "\n",
    "    data.save_dset_file(images_features, dset_name, level, split, \"features\", num_signal_per_set=num_signal)\n",
    "    data.save_dset_file(images_labels, dset_name, level, split, \"labels\", num_signal_per_set=num_signal)\n",
    "\n",
    "    print(f\"finished: {level}, {num_signal}, {split}\")"
   ]
  },
  {
   "cell_type": "markdown",
   "id": "9934507c",
   "metadata": {},
   "source": [
    "Sensitivity datasets"
   ]
  },
  {
   "cell_type": "code",
   "execution_count": null,
   "id": "060e707a",
   "metadata": {},
   "outputs": [],
   "source": [
    "split = \"val\"\n",
    "\n",
    "for level, num_signal in product(levels, num_signal_per_set):\n",
    "\n",
    "    images_features, images_labels = data.make_images(\n",
    "        level,\n",
    "        split,\n",
    "        q_sq_veto,\n",
    "        num_signal,\n",
    "        num_sets_sensitivity,\n",
    "        bins_per_dim,\n",
    "        label_subset=[dc9_new_phys],\n",
    "        bkg_signal_ratio=bkg_signal_ratio,\n",
    "        charge_bkg_fraction=charge_bkg_fraction\n",
    "    )\n",
    "\n",
    "    images_features = data.apply_std_scale(images_features, dset_name, level, num_signal_per_set=num_signal)\n",
    "\n",
    "    data.save_dset_file(images_features, dset_name, level, split, \"sens_features\", num_signal_per_set=num_signal)\n",
    "    data.save_dset_file(images_labels, dset_name, level, split, \"sens_labels\", num_signal_per_set=num_signal)\n",
    "\n",
    "    print(f\"finished: {level}, {num_signal}\")\n"
   ]
  },
  {
   "cell_type": "markdown",
   "id": "ed6e4940",
   "metadata": {},
   "source": [
    "Train models"
   ]
  },
  {
   "cell_type": "code",
   "execution_count": null,
   "id": "36149219",
   "metadata": {},
   "outputs": [],
   "source": [
    "for level, num_signal in product(levels, num_signal_per_set):\n",
    "\n",
    "    model = models.CNN_Model()\n",
    "\n",
    "    model_name = make_model_name(level, num_signal)\n",
    "\n",
    "    dataset_train = data.Dataset(dset_name, level, \"train\", num_signal_per_set=num_signal)\n",
    "    dataset_val = data.Dataset(dset_name, level, \"val\", num_signal_per_set=num_signal)\n",
    "    \n",
    "    models.train(\n",
    "        model,\n",
    "        model_name,\n",
    "        loss_fn,\n",
    "        dataset_train,\n",
    "        dataset_val,\n",
    "        device,\n",
    "        lr,\n",
    "        lr_reduce_factor,\n",
    "        lr_reduce_patience,\n",
    "        batch_sizes[num_signal],\n",
    "        batch_sizes[num_signal],\n",
    "        epochs,\n",
    "        epochs_checkpoint\n",
    "    )\n",
    "\n",
    "    print(f\"finished: {level}, {num_signal}\")\n"
   ]
  },
  {
   "cell_type": "markdown",
   "id": "c3c41044",
   "metadata": {},
   "source": [
    "Evaluate models"
   ]
  },
  {
   "cell_type": "markdown",
   "id": "e512d5f7",
   "metadata": {},
   "source": [
    "Linearity and error"
   ]
  },
  {
   "cell_type": "code",
   "execution_count": null,
   "id": "c2404cb4",
   "metadata": {},
   "outputs": [
    {
     "name": "stdout",
     "output_type": "stream",
     "text": [
      "finished: gen, 8000\n",
      "finished: gen, 16000\n",
      "finished: gen, 32000\n",
      "finished: det, 8000\n",
      "finished: det, 16000\n",
      "finished: det, 32000\n",
      "finished: det_bkg, 8000\n",
      "finished: det_bkg, 16000\n",
      "finished: det_bkg, 32000\n"
     ]
    }
   ],
   "source": [
    "for level, num_signal in product(levels, num_signal_per_set):\n",
    "\n",
    "    model_name = make_model_name(level, num_signal)\n",
    "    model = models.CNN_Model()\n",
    "    model.load_state_dict(models.open_model_state_dict(model_name))\n",
    "    model.to(device)\n",
    "    model.eval()\n",
    "    \n",
    "    dataset_val = data.Dataset(dset_name, level, \"val\", num_signal_per_set=num_signal)\n",
    "    \n",
    "    preds = models.predict_values_set_model(model, dataset_val.features, device)\n",
    "\n",
    "    results_lin = models.run_linearity_test(preds, dataset_val.labels)\n",
    "    results_err = models.run_error_test(preds, dataset_val.labels)\n",
    "\n",
    "    models.save_test_result(results_lin, \"lin\", num_signal, model_name)\n",
    "    models.save_test_result(results_err, \"err\", num_signal, model_name)\n",
    "\n",
    "    print(f\"finished: {level}, {num_signal}\")\n"
   ]
  },
  {
   "cell_type": "markdown",
   "id": "0908d9e8",
   "metadata": {},
   "source": [
    "Sensitivity"
   ]
  },
  {
   "cell_type": "code",
   "execution_count": null,
   "id": "6642fa29",
   "metadata": {},
   "outputs": [],
   "source": [
    "for level, num_signal in product(levels, num_signal_per_set):\n",
    "\n",
    "    model_name = make_model_name(level, num_signal)\n",
    "    model = models.CNN_Model()\n",
    "    model.load_state_dict(models.open_model_state_dict(model_name))\n",
    "\n",
    "    dataset_val_sens = data.Dataset(dset_name, level, \"val\", num_signal_per_set=num_signal, sensitivity=True)\n",
    "\n",
    "    preds = models.predict_values_set_model(model, dataset_val_sens.features, device)\n",
    "\n",
    "    results_sens = models.run_sensitivity_test(preds, dataset_val_sens.labels)\n",
    "\n",
    "    model_name = make_model_name(level, num_signal)\n",
    "    models.save_test_result(results_sens, \"sens\", num_signal, model_name)\n",
    "\n",
    "    print(f\"finished: {level}, {num_signal}\")"
   ]
  },
  {
   "cell_type": "markdown",
   "id": "485cea4f",
   "metadata": {},
   "source": [
    "Plot results"
   ]
  },
  {
   "cell_type": "markdown",
   "id": "dd675576",
   "metadata": {},
   "source": [
    "Linearity"
   ]
  },
  {
   "cell_type": "code",
   "execution_count": 6,
   "id": "d5683248",
   "metadata": {},
   "outputs": [
    {
     "data": {
      "text/plain": [
       "(array([-2.  , -1.93, -1.85, -1.78, -1.7 , -1.63, -1.56, -1.48, -1.41,\n",
       "        -1.34, -1.26, -1.19, -1.11, -1.04, -0.97, -0.89, -0.82, -0.75,\n",
       "        -0.67, -0.6 , -0.52, -0.45, -0.38, -0.3 , -0.23, -0.15, -0.08,\n",
       "        -0.01,  0.  ,  0.07,  0.14,  0.21,  0.29,  0.36,  0.44,  0.51,\n",
       "         0.58,  0.66,  0.73,  0.8 ,  0.88,  0.95,  1.03,  1.1 ],\n",
       "       dtype=float32),\n",
       " array([-1.933898  , -1.8918524 , -1.8122401 , -1.7772907 , -1.6918339 ,\n",
       "        -1.6244377 , -1.5495359 , -1.4659733 , -1.3822739 , -1.3117911 ,\n",
       "        -1.2458181 , -1.1511545 , -1.0558013 , -1.0210567 , -0.9179155 ,\n",
       "        -0.83064497, -0.70667595, -0.6824466 , -0.5812459 , -0.5737249 ,\n",
       "        -0.42535818, -0.3168572 , -0.2827535 , -0.1702128 , -0.14336853,\n",
       "        -0.14706984,  0.06285138,  0.12070738,  0.06831265,  0.1452591 ,\n",
       "         0.16342606,  0.2523075 ,  0.2313979 ,  0.26716474,  0.3497586 ,\n",
       "         0.4083904 ,  0.4396983 ,  0.48184916,  0.48248875,  0.5568276 ,\n",
       "         0.56465137,  0.5491888 ,  0.6366568 ,  0.65364236], dtype=float32),\n",
       " array([0.06084803, 0.06692624, 0.08394456, 0.07880737, 0.10372493,\n",
       "        0.10514956, 0.11322206, 0.11203449, 0.1381448 , 0.12881868,\n",
       "        0.13427985, 0.15029529, 0.14806615, 0.15749192, 0.17165188,\n",
       "        0.17965394, 0.20098373, 0.20669642, 0.21920212, 0.23035581,\n",
       "        0.23944886, 0.25226843, 0.24991658, 0.2709909 , 0.2651736 ,\n",
       "        0.25725707, 0.2776268 , 0.2883677 , 0.27538115, 0.2820055 ,\n",
       "        0.265741  , 0.29122812, 0.27861166, 0.28558072, 0.30514932,\n",
       "        0.286564  , 0.28427657, 0.2870035 , 0.28939718, 0.27906117,\n",
       "        0.26765004, 0.29156756, 0.27869144, 0.2901138 ], dtype=float32))"
      ]
     },
     "execution_count": 6,
     "metadata": {},
     "output_type": "execute_result"
    }
   ],
   "source": [
    "models.open_test_result(\"lin\", 8_000, make_model_name(\"gen\", 8_000))"
   ]
  },
  {
   "cell_type": "code",
   "execution_count": 4,
   "id": "5f41ccfb",
   "metadata": {},
   "outputs": [],
   "source": [
    "fig, axs = plt.subplots(3, 3, sharex=True, sharey=True, layout=\"compressed\")\n",
    "\n",
    "fancy_level_names = {\n",
    "    \"gen\": \"Generator\", \n",
    "    \"det\" : \"Detector\", \n",
    "    \"det_bkg\" : \"Detector and Bkg.\"\n",
    "}\n",
    "\n",
    "for (level, num_signal), ax in zip(product(levels, num_signal_per_set), axs.flat):\n",
    "    \n",
    "    model_name = make_model_name(level, num_signal)\n",
    "\n",
    "    result = models.open_test_result(\"lin\", num_signal, model_name)\n",
    "\n",
    "    plot.plot_linearity(result, ax=ax)\n",
    "\n",
    "    ax.set_title(\n",
    "        f\"Level: {fancy_level_names[level]}\"\n",
    "        f\"\\nEvents/set: {num_signal}\"\n",
    "        \"\\n\" + r\"Sets/$\\delta C_9$: \" + f\"{num_sets_per_label[num_signal]}\", \n",
    "        loc=\"left\"\n",
    "    )\n",
    "\n",
    "axs.flat[0].legend()\n",
    "fig.suptitle(f\"CNN\\n\", x=0.02, horizontalalignment=\"left\")\n",
    "fig.supxlabel(r\"Actual $\\delta C_9$\", fontsize=11, x=0.56, y=-0.06)\n",
    "fig.supylabel(r\"Predicted $\\delta C_9$\", fontsize=11, y=0.45)\n",
    "\n",
    "plt.savefig(Path(\"plots\").joinpath(\"cnn_grid_lin.png\"), bbox_inches=\"tight\")\n",
    "plt.close()"
   ]
  }
 ],
 "metadata": {
  "kernelspec": {
   "display_name": "ml3",
   "language": "python",
   "name": "python3"
  },
  "language_info": {
   "codemirror_mode": {
    "name": "ipython",
    "version": 3
   },
   "file_extension": ".py",
   "mimetype": "text/x-python",
   "name": "python",
   "nbconvert_exporter": "python",
   "pygments_lexer": "ipython3",
   "version": "3.13.5"
  }
 },
 "nbformat": 4,
 "nbformat_minor": 5
}
